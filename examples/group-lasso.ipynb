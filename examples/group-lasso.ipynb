{
 "cells": [
  {
   "cell_type": "code",
   "execution_count": 1,
   "metadata": {},
   "outputs": [],
   "source": [
    "import numpy as np"
   ]
  },
  {
   "cell_type": "markdown",
   "metadata": {},
   "source": [
    "data"
   ]
  },
  {
   "cell_type": "code",
   "execution_count": 2,
   "metadata": {},
   "outputs": [],
   "source": [
    "np.random.seed(0)\n",
    "X = np.random.randn(10, 5)\n",
    "W = np.zeros((5, 3))\n",
    "W[2] = 1\n",
    "Y = X @ W + np.random.randn(10, 3) * 0.1"
   ]
  },
  {
   "cell_type": "markdown",
   "metadata": {},
   "source": [
    "## Efficient and robust feature selection via joint ℓ2, 1-norms minimization"
   ]
  },
  {
   "cell_type": "code",
   "execution_count": 3,
   "metadata": {},
   "outputs": [],
   "source": [
    "class RFS:\n",
    "    def __init__(self, gamma=1.0, max_iter=100):\n",
    "        self.gamma = gamma\n",
    "        self.max_iter = max_iter\n",
    "        \n",
    "    def fit(self, X, Y):\n",
    "        n, m = X.shape\n",
    "        A = np.hstack((X, self.gamma * np.identity(n)))\n",
    "        D_inv = np.identity(m+n)\n",
    "        for _ in range(self.max_iter):\n",
    "            ADA = np.linalg.inv(A @ D_inv @ A.T)\n",
    "            U = D_inv @ A.T @ ADA @ Y\n",
    "            D_inv = 2 * np.diag(np.linalg.norm(U, axis=1))\n",
    "        self.coef_ = U[:m]"
   ]
  },
  {
   "cell_type": "code",
   "execution_count": 4,
   "metadata": {},
   "outputs": [
    {
     "name": "stdout",
     "output_type": "stream",
     "text": [
      "CPU times: user 10.2 ms, sys: 1.64 ms, total: 11.8 ms\n",
      "Wall time: 9.69 ms\n"
     ]
    }
   ],
   "source": [
    "%%time\n",
    "clf = RFS(gamma=1.0, max_iter=100)\n",
    "clf.fit(X, Y)"
   ]
  },
  {
   "cell_type": "code",
   "execution_count": 5,
   "metadata": {
    "scrolled": true
   },
   "outputs": [
    {
     "name": "stdout",
     "output_type": "stream",
     "text": [
      "[[0. 0. 0.]\n",
      " [0. 0. 0.]\n",
      " [1. 1. 1.]\n",
      " [0. 0. 0.]\n",
      " [0. 0. 0.]]\n",
      "[[-1.67510159e-02  4.83887709e-02  4.62902058e-03]\n",
      " [ 5.54272334e-04  7.82781474e-03 -6.27622144e-03]\n",
      " [ 1.00539722e+00  1.02888328e+00  9.30122776e-01]\n",
      " [ 1.42832702e-02 -4.53268943e-03 -2.30547889e-02]\n",
      " [-5.22114126e-02 -3.63653342e-02  3.39052754e-02]]\n"
     ]
    }
   ],
   "source": [
    "print(W)\n",
    "print(clf.coef_)"
   ]
  },
  {
   "cell_type": "markdown",
   "metadata": {},
   "source": [
    "## SPAMS\n",
    "`list_groups` がよく分からない"
   ]
  },
  {
   "cell_type": "code",
   "execution_count": 6,
   "metadata": {},
   "outputs": [],
   "source": [
    "import spams"
   ]
  },
  {
   "cell_type": "code",
   "execution_count": 7,
   "metadata": {},
   "outputs": [
    {
     "name": "stdout",
     "output_type": "stream",
     "text": [
      "CPU times: user 163 µs, sys: 81 µs, total: 244 µs\n",
      "Wall time: 208 µs\n"
     ]
    }
   ],
   "source": [
    "%%time\n",
    "list_groups = np.asfortranarray(np.array([0], dtype=np.int32))\n",
    "alpha0 = np.asfortranarray(np.zeros((X.shape[1], Y.shape[1])))\n",
    "W_spams = spams.l1L2BCD(\n",
    "    X=np.asfortranarray(Y), D=np.asfortranarray(X), alpha0=alpha0, list_groups=list_groups, lambda1=100, itermax=100, mode=2\n",
    ")"
   ]
  },
  {
   "cell_type": "code",
   "execution_count": 8,
   "metadata": {},
   "outputs": [
    {
     "name": "stdout",
     "output_type": "stream",
     "text": [
      "[[0. 0. 0.]\n",
      " [0. 0. 0.]\n",
      " [1. 1. 1.]\n",
      " [0. 0. 0.]\n",
      " [0. 0. 0.]]\n",
      "[[0. 0. 0.]\n",
      " [0. 0. 0.]\n",
      " [0. 0. 0.]\n",
      " [0. 0. 0.]\n",
      " [0. 0. 0.]]\n"
     ]
    }
   ],
   "source": [
    "print(W)\n",
    "print(W_spams)"
   ]
  },
  {
   "cell_type": "markdown",
   "metadata": {},
   "source": [
    "SPAMS 公式のドキュメント  \n",
    "http://spams-devel.gforge.inria.fr/doc-python/html/doc_spams005.html#sec20"
   ]
  },
  {
   "cell_type": "code",
   "execution_count": 9,
   "metadata": {},
   "outputs": [
    {
     "name": "stdout",
     "output_type": "stream",
     "text": [
      "914.489044 signals processed per second\n"
     ]
    }
   ],
   "source": [
    "import spams\n",
    "import numpy as np\n",
    "import six\n",
    "import time\n",
    "myfloat=np.float\n",
    "\n",
    "np.random.seed(0)\n",
    "X = np.asfortranarray(np.random.normal(size = (64,100)),dtype=myfloat)\n",
    "D = np.asfortranarray(np.random.normal(size = (64,200)))\n",
    "D = np.asfortranarray(D / np.tile(np.sqrt((D*D).sum(axis=0)),(D.shape[0],1)),dtype=myfloat)\n",
    "ind_groups = np.array(six.moves.xrange(0,X.shape[1],10),dtype=np.int32) #indices of the first signals in each group\n",
    "# parameters of the optimization procedure are chosen\n",
    "itermax = 100\n",
    "tol = 1e-3\n",
    "mode = spams.PENALTY\n",
    "lambda1 = 0.15 # squared norm of the residual should be less than 0.1\n",
    "numThreads = -1 # number of processors/cores to use, the default choice is -1\n",
    "                # and uses all the cores of the machine\n",
    "alpha0 = np.zeros((D.shape[1],X.shape[1]),dtype= myfloat,order=\"F\")\n",
    "tic = time.time()\n",
    "alpha = spams.l1L2BCD(X,D,alpha0,ind_groups,lambda1 = lambda1,mode = mode,itermax = itermax,tol = tol,numThreads = numThreads)\n",
    "tac = time.time()\n",
    "t = tac - tic\n",
    "print(\"%f signals processed per second\" %(X.shape[1] / t))"
   ]
  },
  {
   "cell_type": "code",
   "execution_count": null,
   "metadata": {},
   "outputs": [],
   "source": []
  }
 ],
 "metadata": {
  "kernelspec": {
   "display_name": "Python 3",
   "language": "python",
   "name": "python3"
  },
  "language_info": {
   "codemirror_mode": {
    "name": "ipython",
    "version": 3
   },
   "file_extension": ".py",
   "mimetype": "text/x-python",
   "name": "python",
   "nbconvert_exporter": "python",
   "pygments_lexer": "ipython3",
   "version": "3.7.3"
  }
 },
 "nbformat": 4,
 "nbformat_minor": 4
}
