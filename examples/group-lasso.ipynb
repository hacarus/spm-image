{
 "cells": [
  {
   "cell_type": "markdown",
   "metadata": {},
   "source": [
    "# Joint $\\ell_{2,1}$-norm minimization\n",
    "$$\\min_W\\quad\\frac12\\|X - WD\\|_F^2 + \\alpha\\|W\\|_{2,1}$$"
   ]
  },
  {
   "cell_type": "code",
   "execution_count": 1,
   "metadata": {},
   "outputs": [],
   "source": [
    "import numpy as np\n",
    "import matplotlib.pyplot as plt\n",
    "import seaborn as sns"
   ]
  },
  {
   "cell_type": "markdown",
   "metadata": {},
   "source": [
    "## Toy data"
   ]
  },
  {
   "cell_type": "code",
   "execution_count": 2,
   "metadata": {},
   "outputs": [],
   "source": [
    "np.random.seed(0)\n",
    "n_samples = 60\n",
    "n_features = 30\n",
    "n_components = 50\n",
    "transform_n_nonzero_coefs = 5\n",
    "\n",
    "dictionary = np.random.randn(n_components, n_features)\n",
    "W = np.random.rand(n_samples, n_components) * 2 - 1\n",
    "for i in range(n_components - transform_n_nonzero_coefs):\n",
    "    W[:, -(i+1)] = 0\n",
    "X = W @ dictionary + np.random.randn(n_samples, n_features) * 0.1"
   ]
  },
  {
   "cell_type": "markdown",
   "metadata": {},
   "source": [
    "$$X \\simeq W D$$"
   ]
  },
  {
   "cell_type": "markdown",
   "metadata": {},
   "source": [
    "## Efficient and robust feature selection via joint ℓ2, 1-norms minimization\n",
    "[Nie, F., Huang, H., Cai, X., & Ding, C. H. (2010). Efficient and robust feature selection via joint ℓ2, 1-norms minimization. In Advances in neural information processing systems (pp. 1813-1821).](https://papers.nips.cc/paper/3988-efficient-and-robust-feature-selection-via-joint-l21-norms-minimization.pdf)"
   ]
  },
  {
   "cell_type": "code",
   "execution_count": 3,
   "metadata": {},
   "outputs": [],
   "source": [
    "def sparse_code_via_l21(X, dictionary, alpha=1.0, max_iter=1000):\n",
    "    m, n = dictionary.shape\n",
    "    A = np.vstack((dictionary, alpha * np.identity(n)))\n",
    "    D_inv = np.identity(m+n)\n",
    "    for _ in range(max_iter):\n",
    "        DA = D_inv @ A\n",
    "        ADA = np.linalg.inv(A.T @ DA)\n",
    "        U = X @ ADA @ DA.T\n",
    "        D_inv = 2 * np.diag(np.linalg.norm(U, axis=0))\n",
    "    return U[:, :m]"
   ]
  },
  {
   "cell_type": "code",
   "execution_count": 4,
   "metadata": {},
   "outputs": [
    {
     "name": "stdout",
     "output_type": "stream",
     "text": [
      "CPU times: user 290 ms, sys: 31.4 ms, total: 322 ms\n",
      "Wall time: 175 ms\n"
     ]
    }
   ],
   "source": [
    "%time coef1 = sparse_code_via_l21(X, dictionary, alpha=.1)"
   ]
  },
  {
   "cell_type": "code",
   "execution_count": 5,
   "metadata": {
    "scrolled": true
   },
   "outputs": [
    {
     "data": {
      "image/png": "[encoded data removed]",
      "text/plain": [
       "<Figure size 576x288 with 4 Axes>"
      ]
     },
     "metadata": {
      "needs_background": "light"
     },
     "output_type": "display_data"
    }
   ],
   "source": [
    "plt.figure(figsize=(8, 4))\n",
    "plt.subplot(1, 2, 1)\n",
    "sns.heatmap(W, xticklabels=False, yticklabels=False, annot=False, square=True, vmin=-2, vmax=2, center=0)\n",
    "plt.title('Ground Truth')\n",
    "plt.subplot(1, 2, 2)\n",
    "sns.heatmap(coef1, xticklabels=False, yticklabels=False, annot=False, square=True, vmin=-2, vmax=2, center=0)\n",
    "plt.title('Estimated')\n",
    "plt.show()"
   ]
  },
  {
   "cell_type": "markdown",
   "metadata": {},
   "source": [
    "## ADMM\n",
    "\\begin{align}\n",
    "    \\min_{W, Y} &\\quad \\frac12\\|X - WD\\|_F^2 + \\alpha \\sum_i\\|y_i\\|_2\\\\\n",
    "    \\text{s.t.} &\\quad W - Y = 0\n",
    "\\end{align}\n",
    "\n",
    "Augmented Lagrangian Function:\n",
    "\\begin{align}\n",
    "    \\mathcal{L}(W, Y, U) = \\frac12\\left\\|X - WD\\right\\|_F^2 + \\alpha \\sum_i\\|y_i\\|_2 + U^\\top(W - Y) + \\frac\\tau2\\|W - Y\\|_F^2\n",
    "\\end{align}\n",
    "\n",
    "Optimal Condition:\n",
    "\\begin{align}\n",
    "    \\frac{\\partial \\mathcal{L}}{\\partial W} = (WD - X)D^\\top + U + \\tau(W - Y) = 0\n",
    "\\end{align}\n",
    "\n",
    "\\begin{align}\n",
    "    \\partial_{y_i} \\mathcal{L} = \\alpha\\partial \\|y_i\\|_2 + u_i + \\tau(y_i - w_i) \\ni 0\n",
    "\\end{align}\n",
    "\n",
    "ADMM Algorithm:\n",
    "\\begin{align}\n",
    "    W^{t+1} &= \\left(XD^\\top + \\tau Y^{t} - U^{t}\\right)\\left(DD^\\top + \\tau I\\right)^{-1}\\\\\n",
    "    y_i^{t+1} &= S\\left(w_i^{t+1} + \\frac1\\tau u_i^t, \\frac{\\alpha}{\\tau}\\right)\\\\\n",
    "    U^{t+1} &= U^t + \\tau\\left(W^{t+1} - Y^{t+1}\\right)\n",
    "\\end{align}\n",
    "\n",
    "where the shrinkage mapping $S$ is defined:\n",
    "\\begin{align}\n",
    "    S(x, \\alpha) = \\max\\left\\{1 - \\frac{\\alpha}{\\|x\\|_2}, 0\\right\\}x\n",
    "\\end{align}"
   ]
  },
  {
   "cell_type": "code",
   "execution_count": 6,
   "metadata": {},
   "outputs": [
    {
     "name": "stdout",
     "output_type": "stream",
     "text": [
      "CPU times: user 137 ms, sys: 12.4 ms, total: 149 ms\n",
      "Wall time: 77.3 ms\n"
     ]
    }
   ],
   "source": [
    "import sys\n",
    "sys.path = ['..'] + sys.path\n",
    "from spmimage.decomposition import sparse_encode_with_l21_norm\n",
    "\n",
    "%time coef2 = sparse_encode_with_l21_norm(X, dictionary, alpha=.1)"
   ]
  },
  {
   "cell_type": "code",
   "execution_count": 7,
   "metadata": {},
   "outputs": [
    {
     "data": {
      "image/png": "[encoded data removed]",
      "text/plain": [
       "<Figure size 576x288 with 4 Axes>"
      ]
     },
     "metadata": {
      "needs_background": "light"
     },
     "output_type": "display_data"
    }
   ],
   "source": [
    "plt.figure(figsize=(8, 4))\n",
    "plt.subplot(1, 2, 1)\n",
    "sns.heatmap(W, xticklabels=False, yticklabels=False, annot=False, square=True, vmin=-2, vmax=2, center=0)\n",
    "plt.title('Ground Truth')\n",
    "plt.subplot(1, 2, 2)\n",
    "sns.heatmap(coef2, xticklabels=False, yticklabels=False, annot=False, square=True, vmin=-2, vmax=2, center=0)\n",
    "plt.title('Estimated')\n",
    "plt.show()"
   ]
  },
  {
   "cell_type": "code",
   "execution_count": null,
   "metadata": {},
   "outputs": [],
   "source": []
  }
 ],
 "metadata": {
  "kernelspec": {
   "display_name": "Python 3",
   "language": "python",
   "name": "python3"
  },
  "language_info": {
   "codemirror_mode": {
    "name": "ipython",
    "version": 3
   },
   "file_extension": ".py",
   "mimetype": "text/x-python",
   "name": "python",
   "nbconvert_exporter": "python",
   "pygments_lexer": "ipython3",
   "version": "3.7.3"
  }
 },
 "nbformat": 4,
 "nbformat_minor": 4
}
